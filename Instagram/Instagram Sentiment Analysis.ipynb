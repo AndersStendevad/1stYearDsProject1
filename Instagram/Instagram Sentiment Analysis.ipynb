{
 "cells": [
  {
   "cell_type": "code",
   "execution_count": 1,
   "metadata": {},
   "outputs": [],
   "source": [
    "import emoji\n",
    "import re\n",
    "import operator"
   ]
  },
  {
   "cell_type": "code",
   "execution_count": 3,
   "metadata": {
    "scrolled": false
   },
   "outputs": [],
   "source": [
    "with open('data/amager_lang-DA.txt') as kbh_k:\n",
    "    lines = kbh_k.readlines()\n",
    "    split_lines = [line.split() for line in lines]"
   ]
  },
  {
   "cell_type": "code",
   "execution_count": 4,
   "metadata": {},
   "outputs": [],
   "source": [
    "def extract_emojis(str):\n",
    "    return ''.join(c for c in str if c in emoji.UNICODE_EMOJI)"
   ]
  },
  {
   "cell_type": "code",
   "execution_count": 5,
   "metadata": {},
   "outputs": [],
   "source": [
    "emojis = dict()\n",
    "hashtags = dict()\n",
    "for line in split_lines:\n",
    "    for word in line:\n",
    "        extracted_emoji = extract_emojis(word)\n",
    "        hashtag_word = re.findall(r\"(?<=#)(\\w+)\", word)\n",
    "        if extracted_emoji:\n",
    "            if extracted_emoji not in emojis:\n",
    "                emojis[extracted_emoji] = 1\n",
    "            else:\n",
    "                emojis[extracted_emoji] += 1\n",
    "        if len(hashtag_word):\n",
    "            if hashtag_word[0] not in hashtags:\n",
    "                hashtags[hashtag_word[0]] = 1\n",
    "            else:\n",
    "                hashtags[hashtag_word[0]] += 1"
   ]
  },
  {
   "cell_type": "code",
   "execution_count": 12,
   "metadata": {},
   "outputs": [
    {
     "data": {
      "text/plain": [
       "'🌟💯☀'"
      ]
     },
     "execution_count": 12,
     "metadata": {},
     "output_type": "execute_result"
    }
   ],
   "source": [
    "string = 'underviser🌟💯☀️Se'\n",
    "extract_emojis(string)"
   ]
  },
  {
   "cell_type": "code",
   "execution_count": 13,
   "metadata": {},
   "outputs": [
    {
     "data": {
      "text/plain": [
       "[('😉', 10),\n",
       " ('💕', 10),\n",
       " ('📸', 12),\n",
       " ('✨', 13),\n",
       " ('😊', 13),\n",
       " ('💐', 16),\n",
       " ('👌', 19),\n",
       " ('❤', 24),\n",
       " ('😋', 27),\n",
       " ('😍', 27)]"
      ]
     },
     "execution_count": 13,
     "metadata": {},
     "output_type": "execute_result"
    }
   ],
   "source": [
    "sorted_emojis = sorted(emojis.items(), key=operator.itemgetter(1))\n",
    "sorted_emojis[-10:]"
   ]
  },
  {
   "cell_type": "code",
   "execution_count": 7,
   "metadata": {},
   "outputs": [
    {
     "data": {
      "text/plain": [
       "[('denmark', 73),\n",
       " ('reffencph', 81),\n",
       " ('reffenlife', 82),\n",
       " ('grøn', 82),\n",
       " ('mitkbh', 83),\n",
       " ('reffen', 83),\n",
       " ('refshaleøen', 83),\n",
       " ('frisørkøbenhavn', 87),\n",
       " ('gogreenorgohome', 87),\n",
       " ('sustainabilitymatters', 90),\n",
       " ('klimavenlig', 92),\n",
       " ('miljøvenlig', 93),\n",
       " ('bæredygtig', 96),\n",
       " ('sustainability', 97),\n",
       " ('EshaKhamo', 98),\n",
       " ('cph', 105),\n",
       " ('kbh', 201),\n",
       " ('copenhagen', 217),\n",
       " ('københavn', 239),\n",
       " ('kbhk', 685)]"
      ]
     },
     "execution_count": 7,
     "metadata": {},
     "output_type": "execute_result"
    }
   ],
   "source": [
    "sorted_hashtags = sorted(hashtags.items(), key=operator.itemgetter(1))\n",
    "sorted_hashtags[-20:]"
   ]
  },
  {
   "cell_type": "code",
   "execution_count": null,
   "metadata": {},
   "outputs": [],
   "source": []
  }
 ],
 "metadata": {
  "kernelspec": {
   "display_name": "Python 3",
   "language": "python",
   "name": "python3"
  },
  "language_info": {
   "codemirror_mode": {
    "name": "ipython",
    "version": 3
   },
   "file_extension": ".py",
   "mimetype": "text/x-python",
   "name": "python",
   "nbconvert_exporter": "python",
   "pygments_lexer": "ipython3",
   "version": "3.6.8"
  }
 },
 "nbformat": 4,
 "nbformat_minor": 2
}
